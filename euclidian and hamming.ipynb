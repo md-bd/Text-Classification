{
 "cells": [
  {
   "cell_type": "markdown",
   "metadata": {},
   "source": [
    "Import necessary library"
   ]
  },
  {
   "cell_type": "code",
   "execution_count": 1,
   "metadata": {
    "ExecuteTime": {
     "end_time": "2019-04-03T16:58:01.140540Z",
     "start_time": "2019-04-03T16:58:00.087356Z"
    }
   },
   "outputs": [],
   "source": [
    "\n",
    "from xml.dom import minidom\n",
    "import re\n",
    "import numpy as np\n",
    "# https://www.datacamp.com/community/tutorials/stemming-lemmatization-python\n",
    "from nltk.stem import LancasterStemmer, WordNetLemmatizer\n",
    "from nltk.stem.porter import PorterStemmer\n",
    "import matplotlib.pyplot as plt\n"
   ]
  },
  {
   "cell_type": "code",
   "execution_count": 2,
   "metadata": {
    "ExecuteTime": {
     "end_time": "2019-04-03T16:58:01.145528Z",
     "start_time": "2019-04-03T16:58:01.142536Z"
    }
   },
   "outputs": [],
   "source": [
    "\n",
    "# from nltk.corpus import stopwords\n",
    "# stopwords.words('english')"
   ]
  },
  {
   "cell_type": "markdown",
   "metadata": {},
   "source": [
    "Data Cleaning Functions"
   ]
  },
  {
   "cell_type": "code",
   "execution_count": 3,
   "metadata": {
    "ExecuteTime": {
     "end_time": "2019-04-03T16:58:01.228305Z",
     "start_time": "2019-04-03T16:58:01.147523Z"
    }
   },
   "outputs": [],
   "source": [
    "\n",
    "TAG_RE = re.compile(r'<[^>]+>|\\'')\n",
    "def remove_tags(text):\n",
    "    return TAG_RE.sub('', text)\n",
    "\n",
    "PUNC_TAG = re.compile(r'[^a-zA-Z0-9]')\n",
    "def remove_punctuation(text):\n",
    "    return PUNC_TAG.sub(' ', text)\n",
    "\n",
    "Spaces = re.compile(r'  *')\n",
    "def remove_spaces(text):\n",
    "    return Spaces.sub(' ', text)\n",
    "\n",
    "def remove_junk(string):\n",
    "    return (remove_spaces(remove_punctuation(remove_tags(string)))).lower()\n"
   ]
  },
  {
   "cell_type": "markdown",
   "metadata": {},
   "source": [
    "loading stop words in a list"
   ]
  },
  {
   "cell_type": "code",
   "execution_count": 4,
   "metadata": {
    "ExecuteTime": {
     "end_time": "2019-04-03T16:58:01.310088Z",
     "start_time": "2019-04-03T16:58:01.230302Z"
    }
   },
   "outputs": [],
   "source": [
    "\n",
    "# https://github.com/Alir3z4/stop-words/blob/master/english.txt\n",
    "file = open('english.txt', 'r')\n",
    "stopwords = []\n",
    "\n",
    "for i in file.readlines():\n",
    "    i = i.split()\n",
    "    stopwords = stopwords + i\n",
    "\n",
    "file.close()\n",
    "# other stopwords collections\n",
    "# https://streamhacker.com/2010/05/24/text-classification-sentiment-analysis-stopwords-collocations/"
   ]
  },
  {
   "cell_type": "markdown",
   "metadata": {},
   "source": [
    "<h5>Word Stemming and Lemmatization Functions</h5>\n",
    "<a href=\"https://gist.github.com/mmmayo13/07252b4eb27e5495b6032888b38e5333#file-text_data_preprocessing_5-py\" target=\"_blank\">more on this link</a>"
   ]
  },
  {
   "cell_type": "code",
   "execution_count": 5,
   "metadata": {
    "ExecuteTime": {
     "end_time": "2019-04-03T16:58:01.387879Z",
     "start_time": "2019-04-03T16:58:01.312082Z"
    }
   },
   "outputs": [],
   "source": [
    "\n",
    "# https://gist.github.com/mmmayo13/07252b4eb27e5495b6032888b38e5333#file-text_data_preprocessing_5-py\n",
    "def stem_word(word):\n",
    "    \"\"\"Stem words in list of tokenized words\"\"\"\n",
    "    stemmer = LancasterStemmer()   \n",
    "    return stemmer.stem(word)\n",
    "\n",
    "def lemmatize_verb(word):\n",
    "    \"\"\"Lemmatize verbs\"\"\"\n",
    "    lemmatizer = WordNetLemmatizer()\n",
    "    return lemmatizer.lemmatize(word, pos='v')\n",
    "\n",
    "def lemm(word):\n",
    "    \"\"\"Lemmatize nouns\"\"\"\n",
    "    wordnet_lemmatizer = WordNetLemmatizer()\n",
    "    return wordnet_lemmatizer.lemmatize(word)\n",
    "\n",
    "def pot(word):\n",
    "    porter_stemmer = PorterStemmer()\n",
    "    return porter_stemmer.stem(word)\n"
   ]
  },
  {
   "cell_type": "code",
   "execution_count": 6,
   "metadata": {
    "ExecuteTime": {
     "end_time": "2019-04-03T16:58:01.475644Z",
     "start_time": "2019-04-03T16:58:01.389874Z"
    },
    "scrolled": true
   },
   "outputs": [],
   "source": [
    "def build_wordlist(filelocation, stopwords, wordmap, index, MAX_ROWS = 200):\n",
    "\n",
    "    # parse an xml file by name\n",
    "    mydoc = minidom.parse(filelocation)\n",
    "    \n",
    "    # get each row in the file\n",
    "    items = mydoc.getElementsByTagName('row')\n",
    "    count=0\n",
    "    \n",
    "    for item in items:\n",
    "        \n",
    "        \n",
    "        # remove unnecessary things\n",
    "        string = remove_junk(item.attributes['Body'].value)\n",
    "        \n",
    "        # not count a paragraph without any value\n",
    "        if len(string) < 2:\n",
    "            continue\n",
    "        \n",
    "        count=count+1\n",
    "        if count==MAX_ROWS:\n",
    "            break\n",
    "        \n",
    "        # check every single words in the string\n",
    "        words = string.split(\" \")\n",
    "        \n",
    "        for word in words:\n",
    "            \n",
    "            # check whether it's an important word or not\n",
    "            # https://docs.python.org/3/library/stdtypes.html#str.isnumeric\n",
    "            if not word.isnumeric() and len(word) > 1:\n",
    "                # lemmatize the words \n",
    "                word = lemm(lemmatize_verb(word))\n",
    "                \n",
    "                if not word.isnumeric() and word not in wordmap and word not in stopwords and len(word) > 1:\n",
    "                    \n",
    "                    wordmap[word] = index\n",
    "                    index = index + 1\n",
    "\n",
    "    \n",
    "    return wordmap, index\n"
   ]
  },
  {
   "cell_type": "code",
   "execution_count": null,
   "metadata": {},
   "outputs": [],
   "source": []
  },
  {
   "cell_type": "code",
   "execution_count": 7,
   "metadata": {
    "ExecuteTime": {
     "end_time": "2019-04-03T16:58:01.572385Z",
     "start_time": "2019-04-03T16:58:01.477639Z"
    }
   },
   "outputs": [],
   "source": [
    "def vectormapping(filelocation, wordmap, MAX_ROWS = 200):\n",
    "\n",
    "    count = 0\n",
    "    mainvec =[]\n",
    "    \n",
    "    testdoc = minidom.parse(filelocation)\n",
    "    testItems = testdoc.getElementsByTagName('row')\n",
    "\n",
    "    for testItem in testItems:\n",
    "        \n",
    "        \n",
    "        \n",
    "        # initialize the vector\n",
    "        vector = [0]*len(wordmap)\n",
    "        \n",
    "        # okay, remove the junk as before\n",
    "        string = remove_tags(testItem.attributes['Body'].value)\n",
    "        string = remove_punctuation(string)\n",
    "        string = remove_spaces(string)\n",
    "        string = string.lower()\n",
    "        \n",
    "        # not count a paragraph without any value\n",
    "        if len(string) < 2:\n",
    "            continue\n",
    "        \n",
    "        count=count+1\n",
    "        if count==MAX_ROWS:\n",
    "            break\n",
    "\n",
    "        # check every words in the string\n",
    "        words = string.split(\" \")\n",
    "        \n",
    "        # now go through every word\n",
    "        for w in words:\n",
    "            # lemmatize the word\n",
    "            w = lemm(lemmatize_verb(w))\n",
    "            \n",
    "            # count how many times it's in the string\n",
    "            if w in wordmap.keys():\n",
    "                vector[wordmap[w]]=vector[wordmap[w]]+1\n",
    "        \n",
    "        # append this vector of a single row to the whole vector list\n",
    "        mainvec.append(vector)\n",
    "\n",
    "    return mainvec\n"
   ]
  },
  {
   "cell_type": "code",
   "execution_count": 8,
   "metadata": {
    "ExecuteTime": {
     "end_time": "2019-04-03T16:58:01.656163Z",
     "start_time": "2019-04-03T16:58:01.574381Z"
    }
   },
   "outputs": [],
   "source": [
    "# if we need the total wordmap in a list....\n",
    "def features_name(wordmap):\n",
    "\n",
    "    features = [0] * len(wordmap)\n",
    "\n",
    "    for i in range(len(wordmap)):\n",
    "            for w, c in wordmap.items():\n",
    "                if i == c:\n",
    "                    features[i] = w\n",
    "    return features"
   ]
  },
  {
   "cell_type": "markdown",
   "metadata": {},
   "source": [
    "#  WordMap "
   ]
  },
  {
   "cell_type": "code",
   "execution_count": 9,
   "metadata": {
    "ExecuteTime": {
     "end_time": "2019-04-03T16:58:14.450963Z",
     "start_time": "2019-04-03T16:58:01.658158Z"
    },
    "scrolled": true
   },
   "outputs": [
    {
     "name": "stdout",
     "output_type": "stream",
     "text": [
      "wordmap generated\n",
      "total number of features: 5444\n"
     ]
    }
   ],
   "source": [
    "filenames = open('./Dataset/topics.txt', 'r')\n",
    "names = []\n",
    "\n",
    "for i in filenames.readlines():\n",
    "    names = names + i.split()\n",
    "\n",
    "wordmap = {}\n",
    "index = 0\n",
    "MAX_ROWS = 200\n",
    "\n",
    "# build the total wordMap of all the files and rows\n",
    "for name in names:\n",
    "    fileloc = './Dataset/Training/' + name + '.xml'\n",
    "    wordmap, index = build_wordlist(fileloc, stopwords, wordmap, index, MAX_ROWS + 1)\n",
    "\n",
    "\n",
    "print('wordmap generated')\n",
    "print('total number of features:', len(wordmap))\n"
   ]
  },
  {
   "cell_type": "code",
   "execution_count": 10,
   "metadata": {
    "ExecuteTime": {
     "end_time": "2019-04-03T16:58:14.456947Z",
     "start_time": "2019-04-03T16:58:14.452956Z"
    },
    "scrolled": true
   },
   "outputs": [],
   "source": [
    "# for w in features_name(wordmap):\n",
    "#     print(w)\n"
   ]
  },
  {
   "cell_type": "code",
   "execution_count": 11,
   "metadata": {
    "ExecuteTime": {
     "end_time": "2019-04-03T16:58:14.566297Z",
     "start_time": "2019-04-03T16:58:14.458939Z"
    },
    "scrolled": true
   },
   "outputs": [
    {
     "data": {
      "text/plain": [
       "\"\\n# print(features_name(wordmap))\\nf = open('word.txt', 'w')\\nfor w in features_name(wordmap):\\n    if len(w) < 4:\\n        f.write(w + '\\n')\\n\""
      ]
     },
     "execution_count": 11,
     "metadata": {},
     "output_type": "execute_result"
    }
   ],
   "source": [
    "\"\"\"\n",
    "# print(features_name(wordmap))\n",
    "f = open('word.txt', 'w')\n",
    "for w in features_name(wordmap):\n",
    "    if len(w) < 4:\n",
    "        f.write(w + '\\n')\n",
    "\"\"\""
   ]
  },
  {
   "cell_type": "markdown",
   "metadata": {},
   "source": [
    "## Vector Mapping for Training Data\n"
   ]
  },
  {
   "cell_type": "code",
   "execution_count": 12,
   "metadata": {
    "ExecuteTime": {
     "end_time": "2019-04-03T16:58:22.325676Z",
     "start_time": "2019-04-03T16:58:14.575274Z"
    },
    "scrolled": true
   },
   "outputs": [
    {
     "name": "stdout",
     "output_type": "stream",
     "text": [
      ">> Anime--Done\n",
      ">> Coffee--Done\n",
      ">> Cooking--Done\n",
      ">> Wood_Working--Done\n"
     ]
    }
   ],
   "source": [
    "\n",
    "total_vector = []\n",
    "\n",
    "# create a list of vectors of all the training datasets\n",
    "for name in names:\n",
    "    fileloc = './Dataset/Training/' + name + '.xml'\n",
    "    print('>>', name, end='--')\n",
    "    total_vector = total_vector + vectormapping(fileloc, wordmap, MAX_ROWS + 1)\n",
    "    print('Done')\n",
    "\n",
    "total_vector = np.array(total_vector)"
   ]
  },
  {
   "cell_type": "code",
   "execution_count": 13,
   "metadata": {
    "ExecuteTime": {
     "end_time": "2019-04-03T16:58:23.845612Z",
     "start_time": "2019-04-03T16:58:22.327670Z"
    }
   },
   "outputs": [
    {
     "name": "stdout",
     "output_type": "stream",
     "text": [
      "total number of features in wordMap: 5444\n",
      "training vectors of total rows: 800\n",
      "coffee 584\n",
      "wood 240\n",
      "time 221\n",
      "water 201\n",
      "anime 167\n",
      "cut 158\n",
      "brew 137\n",
      "bean 135\n",
      "roast 135\n",
      "caffeine 120\n"
     ]
    }
   ],
   "source": [
    "\n",
    "print('total number of features in wordMap:', end=' ')\n",
    "print(len(total_vector[0]))\n",
    "print('training vectors of total rows:', end=' ')\n",
    "print(len(total_vector[:,0]))\n",
    "features = features_name(wordmap)\n",
    "for i in np.argsort(-total_vector.sum(axis=0))[:10]:\n",
    "    print(features[i], total_vector.sum(axis=0)[i])"
   ]
  },
  {
   "cell_type": "markdown",
   "metadata": {},
   "source": [
    "<h1><b><center> KNN using Euclidean Distance</b>"
   ]
  },
  {
   "cell_type": "code",
   "execution_count": 14,
   "metadata": {
    "ExecuteTime": {
     "end_time": "2019-04-03T16:58:23.854590Z",
     "start_time": "2019-04-03T16:58:23.847607Z"
    }
   },
   "outputs": [],
   "source": [
    "\n",
    "def KNN_euclidean(total_vector, test_vector, names, MAX_ROWS, KNN=1):\n",
    "\n",
    "    # https://docs.scipy.org/doc/numpy-1.15.0/reference/generated/numpy.subtract.html\n",
    "    euclidean_distance = np.subtract(total_vector, test_vector)\n",
    "    euclidean_distance = euclidean_distance ** 2\n",
    "\n",
    "    # https://docs.scipy.org/doc/numpy-1.15.1/reference/generated/numpy.sum.html\n",
    "    euclidean_distance = euclidean_distance.sum(axis=1)\n",
    "    \n",
    "    # sort the indexes\n",
    "    # https://docs.scipy.org/doc/numpy-1.15.1/reference/generated/numpy.argsort.html\n",
    "    row_indexes = np.argsort(euclidean_distance)[:KNN]\n",
    "    \n",
    "    predic = []\n",
    "    for r in row_indexes:\n",
    "        val = MAX_ROWS\n",
    "\n",
    "        for i in range(0,len(names)):\n",
    "            if r < val:\n",
    "                predic.append(names[i])\n",
    "                break\n",
    "            else:\n",
    "                val = val + MAX_ROWS\n",
    "\n",
    "    b = np.unique(predic, return_counts=True)[1]\n",
    "    c = np.argmax(b)\n",
    "    for i in range(len(b)):\n",
    "        if i != c and b[i] == b[c]:\n",
    "            return predic[0]\n",
    "    \n",
    "    return np.unique(predic)[np.argmax(np.unique(predic, return_counts=True)[1])]\n"
   ]
  },
  {
   "cell_type": "markdown",
   "metadata": {},
   "source": [
    "<h3>Let's try testing on one particular class</h3>"
   ]
  },
  {
   "cell_type": "code",
   "execution_count": 15,
   "metadata": {
    "ExecuteTime": {
     "end_time": "2019-04-03T16:58:24.081224Z",
     "start_time": "2019-04-03T16:58:23.857582Z"
    },
    "scrolled": false
   },
   "outputs": [
    {
     "name": "stdout",
     "output_type": "stream",
     "text": [
      ">>>>>>>>>>>>>>>>>>> Cooking <<<<<<<<<<<<<<<<<<<\n",
      "butter 8\n",
      "drink 3\n",
      "cilantro 3\n",
      "real 2\n",
      "sausage 2\n",
      "sugar 2\n",
      "add 2\n",
      "bring 2\n",
      "alcohol 2\n",
      "temperature 2\n",
      "Cooking --> Cooking\n",
      "Cooking --> Cooking\n",
      "Cooking --> Cooking\n",
      "Cooking --> Cooking\n",
      "Cooking --> Cooking\n",
      "accuracy: 100.0 %\n"
     ]
    }
   ],
   "source": [
    "\n",
    "namet = 'Cooking'\n",
    "fileloc = './Dataset/Test/' + namet + '.xml'\n",
    "actual_result = namet\n",
    "print('>>>>>>>>>>>>>>>>>>>', namet, '<<<<<<<<<<<<<<<<<<<')\n",
    "\n",
    "TEST_MAX_ROWS = 5\n",
    "test_vectors = []\n",
    "\n",
    "test_vectors = test_vectors + vectormapping(fileloc, wordmap, TEST_MAX_ROWS + 1)\n",
    "test_vectors = np.array(test_vectors)\n",
    "for i in np.argsort(-test_vectors.sum(axis=0))[:10]:\n",
    "    print(features[i], test_vectors.sum(axis=0)[i])\n",
    "\n",
    "accurate = 0\n",
    "\n",
    "for test_vector in test_vectors:\n",
    "\n",
    "    predicted_result = KNN_euclidean(total_vector, test_vector, names, MAX_ROWS, 5)\n",
    "\n",
    "    print(actual_result,\"-->\", predicted_result)\n",
    "    if actual_result == predicted_result:\n",
    "        accurate += 1\n",
    "\n",
    "print('accuracy:', (accurate/TEST_MAX_ROWS) * 100, '%')\n"
   ]
  },
  {
   "cell_type": "markdown",
   "metadata": {},
   "source": [
    "# Prediction Using Testing Data"
   ]
  },
  {
   "cell_type": "code",
   "execution_count": 16,
   "metadata": {
    "ExecuteTime": {
     "end_time": "2019-04-03T16:58:24.087182Z",
     "start_time": "2019-04-03T16:58:24.083193Z"
    }
   },
   "outputs": [],
   "source": [
    "\n",
    "def actual_result_from_id(names, total_numbers, TEST_MAX_ROWS):\n",
    "    val = TEST_MAX_ROWS\n",
    "    for i in range(0,len(names)):\n",
    "        if total_numbers < val:\n",
    "            return names[i]\n",
    "        \n",
    "        else:\n",
    "            val = val + TEST_MAX_ROWS\n"
   ]
  },
  {
   "cell_type": "code",
   "execution_count": 17,
   "metadata": {
    "ExecuteTime": {
     "end_time": "2019-04-03T16:58:40.182299Z",
     "start_time": "2019-04-03T16:58:24.089177Z"
    },
    "scrolled": true
   },
   "outputs": [
    {
     "name": "stdout",
     "output_type": "stream",
     "text": [
      "KNN =  1\n",
      "....\n",
      "\n",
      "-----------------------------------------------\n",
      "overall accuracy using KNN_euclidean: 58.0 %\n",
      "-----------------------------------------------\n",
      "KNN =  3\n",
      "....\n",
      "\n",
      "-----------------------------------------------\n",
      "overall accuracy using KNN_euclidean: 52.0 %\n",
      "-----------------------------------------------\n",
      "KNN =  5\n",
      "....\n",
      "\n",
      "-----------------------------------------------\n",
      "overall accuracy using KNN_euclidean: 55.0 %\n",
      "-----------------------------------------------\n"
     ]
    }
   ],
   "source": [
    "\n",
    "file = open('KNN euclidian report.txt', 'w')\n",
    "file.write('KNN \\taccuracy\\n')\n",
    "\n",
    "KNNs = [1, 3, 5]\n",
    "accuracy_eu = [0, 0, 0]\n",
    "\n",
    "\n",
    "for KNN in KNNs:\n",
    "    \n",
    "    accurate = 0\n",
    "    total_numbers = 0\n",
    "    TEST_MAX_ROWS = 50\n",
    "    test_vectors = []\n",
    "\n",
    "    print('KNN = ', KNN)\n",
    "    file.write(str(KNN))\n",
    "    \n",
    "    for name in names:\n",
    "        fileloc = './Dataset/Test/' + name + '.xml'\n",
    "        # print('>>>', name)\n",
    "\n",
    "        test_vectors = test_vectors + vectormapping(fileloc, wordmap, TEST_MAX_ROWS + 1)\n",
    "        print('.',end='')\n",
    "\n",
    "    test_vectors = np.array(test_vectors)\n",
    "\n",
    "    for test_vector in test_vectors:\n",
    "\n",
    "        predicted_result = KNN_euclidean(total_vector, test_vector, names, MAX_ROWS, KNN)\n",
    "\n",
    "        actual_result = actual_result_from_id(names, total_numbers, TEST_MAX_ROWS)\n",
    "        total_numbers +=1\n",
    "        if actual_result == predicted_result:\n",
    "            accurate += 1\n",
    "\n",
    "    print('\\n')\n",
    "    accuracy_eu[KNN//2] = round((accurate/total_numbers) * 100, 3)\n",
    "    print('-----------------------------------------------')\n",
    "    print('overall accuracy using KNN_euclidean:', accuracy_eu[KNN//2], '%')\n",
    "    print('-----------------------------------------------')\n",
    "    \n",
    "    file.write('\\t'+ str(accuracy_eu[KNN//2]) + '\\n')\n",
    "\n",
    "file.close()\n",
    "\n",
    "\n"
   ]
  },
  {
   "cell_type": "code",
   "execution_count": null,
   "metadata": {},
   "outputs": [],
   "source": []
  },
  {
   "cell_type": "markdown",
   "metadata": {},
   "source": [
    "<h1><b><center> KNN using Hamming Distance</h1>"
   ]
  },
  {
   "cell_type": "code",
   "execution_count": 18,
   "metadata": {
    "ExecuteTime": {
     "end_time": "2019-04-03T16:58:40.191275Z",
     "start_time": "2019-04-03T16:58:40.184294Z"
    }
   },
   "outputs": [],
   "source": [
    "def KNN_hamming(total_vector, test_vector, names, MAX_ROWS, KNN=1):\n",
    "\n",
    "    # https://docs.scipy.org/doc/numpy-1.15.0/reference/generated/numpy.subtract.html\n",
    "    # penalizing training vectors with very small data. This improves model accuracy massively.\n",
    "    for t in range(len(total_vector)):\n",
    "        if total_vector[t].sum() < 10:\n",
    "            total_vector[t] = [1]*len(total_vector[t])\n",
    "    \n",
    "    \n",
    "    hamming_distance = np.logical_xor(total_vector, test_vector).sum(axis=1)\n",
    "    \n",
    "    # print(hamming_distance[0])\n",
    "    # sort the indexes\n",
    "    # https://docs.scipy.org/doc/numpy-1.15.1/reference/generated/numpy.argsort.html\n",
    "    row_indexes = np.argsort(hamming_distance)[:KNN]\n",
    "    # print(row_indexes)\n",
    "    \n",
    "    predic = []\n",
    "    for r in row_indexes:\n",
    "        val = MAX_ROWS\n",
    "\n",
    "        for i in range(0,len(names)):\n",
    "            if r < val:\n",
    "                predic.append(names[i])\n",
    "                break\n",
    "            else:\n",
    "                val = val + MAX_ROWS\n",
    "\n",
    "    b = np.unique(predic, return_counts=True)[1]\n",
    "    c = np.argmax(b)\n",
    "    for i in range(len(b)):\n",
    "        if i != c and b[i] == b[c]:\n",
    "            return predic[0]\n",
    "    \n",
    "    return np.unique(predic)[np.argmax(np.unique(predic, return_counts=True)[1])]\n"
   ]
  },
  {
   "cell_type": "code",
   "execution_count": null,
   "metadata": {},
   "outputs": [],
   "source": []
  },
  {
   "cell_type": "markdown",
   "metadata": {},
   "source": [
    "<h3>Let's try testing on one particular class</h3>"
   ]
  },
  {
   "cell_type": "code",
   "execution_count": 19,
   "metadata": {
    "ExecuteTime": {
     "end_time": "2019-04-03T16:58:40.499955Z",
     "start_time": "2019-04-03T16:58:40.194268Z"
    }
   },
   "outputs": [
    {
     "name": "stdout",
     "output_type": "stream",
     "text": [
      ">>>>>>>>>>>>>>>>>>> Cooking <<<<<<<<<<<<<<<<<<<\n",
      "Cooking --> Coffee\n",
      "Cooking --> Cooking\n",
      "Cooking --> Cooking\n",
      "Cooking --> Cooking\n",
      "Cooking --> Wood_Working\n",
      "accuracy: 60.0 %\n"
     ]
    }
   ],
   "source": [
    "namet = 'Cooking'\n",
    "fileloc = './Dataset/Test/' + namet + '.xml'\n",
    "actual_result = namet\n",
    "print('>>>>>>>>>>>>>>>>>>>', namet, '<<<<<<<<<<<<<<<<<<<')\n",
    "\n",
    "TEST_MAX_ROWS = 5\n",
    "test_vectors = []\n",
    "\n",
    "test_vectors = test_vectors + vectormapping(fileloc, wordmap, TEST_MAX_ROWS + 1)\n",
    "test_vectors = np.array(test_vectors)\n",
    "\n",
    "# https://stackoverflow.com/questions/45648668/convert-numpy-array-to-0-or-1\n",
    "test_vectors[test_vectors > 0] = 1\n",
    "total_vector[total_vector > 0] = 1\n",
    "\n",
    "# print(test_vectors[0, 0:100])\n",
    "# print(total_vector[63].sum())\n",
    "\n",
    "accurate = 0\n",
    "for test_vector in test_vectors:\n",
    "\n",
    "    predicted_result = KNN_hamming(total_vector, test_vector, names, MAX_ROWS, 3)\n",
    "\n",
    "    print(actual_result,\"-->\", predicted_result)\n",
    "    if actual_result == predicted_result:\n",
    "        accurate += 1\n",
    "\n",
    "print('accuracy:', (accurate/TEST_MAX_ROWS) * 100, '%')\n"
   ]
  },
  {
   "cell_type": "code",
   "execution_count": null,
   "metadata": {},
   "outputs": [],
   "source": []
  },
  {
   "cell_type": "markdown",
   "metadata": {},
   "source": [
    "# Prediction Using Testing Data"
   ]
  },
  {
   "cell_type": "code",
   "execution_count": 20,
   "metadata": {
    "ExecuteTime": {
     "end_time": "2019-04-03T16:58:50.888218Z",
     "start_time": "2019-04-03T16:58:40.501950Z"
    },
    "scrolled": true
   },
   "outputs": [
    {
     "name": "stdout",
     "output_type": "stream",
     "text": [
      "KNN =  1\n",
      "....\n",
      "\n",
      "-----------------------------------------------\n",
      "overall accuracy using KNN_hamming: 69.5 %\n",
      "-----------------------------------------------\n",
      "KNN =  3\n",
      "....\n",
      "\n",
      "-----------------------------------------------\n",
      "overall accuracy using KNN_hamming: 74.0 %\n",
      "-----------------------------------------------\n",
      "KNN =  5\n",
      "....\n",
      "\n",
      "-----------------------------------------------\n",
      "overall accuracy using KNN_hamming: 74.5 %\n",
      "-----------------------------------------------\n"
     ]
    }
   ],
   "source": [
    "file = open('KNN hamming report.txt', 'w')\n",
    "file.write('KNN \\taccuracy\\n')\n",
    "\n",
    "KNNs = [1, 3, 5]\n",
    "accuracy = [0, 0, 0]\n",
    "\n",
    "for KNN in KNNs:\n",
    "    \n",
    "\n",
    "    accurate = 0\n",
    "    total_numbers = 0\n",
    "    TEST_MAX_ROWS = 50\n",
    "    test_vectors = []\n",
    "    \n",
    "    print('KNN = ', KNN)\n",
    "    file.write(str(KNN))\n",
    "\n",
    "    \n",
    "    for name in names:\n",
    "        fileloc = './Dataset/Test/' + name + '.xml'\n",
    "        # print('>>>>>>>>>>>>>>>>>>>', name, '<<<<<<<<<<<<<<<<<')\n",
    "\n",
    "        test_vectors = test_vectors + vectormapping(fileloc, wordmap, TEST_MAX_ROWS + 1)\n",
    "        print('.', end='')\n",
    "\n",
    "    test_vectors = np.array(test_vectors)\n",
    "    test_vectors[test_vectors > 0] = 1\n",
    "    total_vector[total_vector > 0] = 1\n",
    "\n",
    "\n",
    "\n",
    "    for test_vector in test_vectors:\n",
    "\n",
    "        predicted_result = KNN_hamming(total_vector, test_vector, names, MAX_ROWS, KNN)\n",
    "        actual_result = actual_result_from_id(names, total_numbers, TEST_MAX_ROWS)\n",
    "\n",
    "        # print(actual_result,\"-->\", predicted_result)\n",
    "        total_numbers += 1\n",
    "        if actual_result == predicted_result:\n",
    "            accurate += 1\n",
    "\n",
    "    print('\\n')\n",
    "    accuracy[KNN//2] = round((accurate/total_numbers) * 100, 3)\n",
    "    print('-----------------------------------------------')\n",
    "    print('overall accuracy using KNN_hamming:', accuracy[KNN//2], '%')\n",
    "    print('-----------------------------------------------')\n",
    "    file.write('\\t'+ str(accuracy[KNN//2]) + '\\n')\n",
    "\n",
    "file.close()"
   ]
  },
  {
   "cell_type": "code",
   "execution_count": null,
   "metadata": {},
   "outputs": [],
   "source": []
  },
  {
   "cell_type": "code",
   "execution_count": 21,
   "metadata": {
    "ExecuteTime": {
     "end_time": "2019-04-03T16:58:51.029814Z",
     "start_time": "2019-04-03T16:58:50.890188Z"
    }
   },
   "outputs": [
    {
     "data": {
      "image/png": "[encoded data removed]",
      "text/plain": [
       "<Figure size 720x432 with 1 Axes>"
      ]
     },
     "metadata": {
      "needs_background": "light"
     },
     "output_type": "display_data"
    }
   ],
   "source": [
    "# create plot\n",
    "fig, ax = plt.subplots(figsize=(10, 6))\n",
    "\n",
    "# plt.grid(True)\n",
    "index = np.arange(len(KNNs))\n",
    "bar_width = 0.25\n",
    "opacity = 0.6\n",
    " \n",
    "rects1 = plt.bar(index, accuracy_eu, bar_width,\n",
    "alpha=opacity,\n",
    "color='b',\n",
    "label='Euclidean')\n",
    "\n",
    "plt.axis(ymin=min(accuracy_eu) - 10, ymax= 100);\n",
    "\n",
    "rects2 = plt.bar(index + bar_width, accuracy, bar_width,\n",
    "alpha=opacity,\n",
    "color='r',\n",
    "label='Hamming')\n",
    "\n",
    "\n",
    " \n",
    "plt.xlabel('KNN')\n",
    "plt.ylabel('Accuracy')\n",
    "plt.title('Accuracy by KNN values')\n",
    "plt.xticks(index + bar_width/2, ('1', '3', '5'))\n",
    "plt.legend()\n",
    "\n",
    "\n",
    "# https://matplotlib.org/gallery/lines_bars_and_markers/barchart.html#sphx-glr-gallery-lines-bars-and-markers-barchart-py\n",
    "\n",
    "def autolabel(rects, xpos='center'):\n",
    "    \"\"\"\n",
    "    Attach a text label above each bar in *rects*, displaying its height.\n",
    "\n",
    "    *xpos* indicates which side to place the text w.r.t. the center of\n",
    "    the bar. It can be one of the following {'center', 'right', 'left'}.\n",
    "    \"\"\"\n",
    "\n",
    "    xpos = xpos.lower()  # normalize the case of the parameter\n",
    "    ha = {'center': 'center', 'right': 'left', 'left': 'right'}\n",
    "    offset = {'center': 0.5, 'right': 0.57, 'left': 0.43}  # x_txt = x + w*off\n",
    "\n",
    "    for rect in rects:\n",
    "        height = rect.get_height()\n",
    "        ax.text(rect.get_x() + rect.get_width()*offset[xpos], 1.01*height,\n",
    "                '{}'.format(height), ha=ha[xpos], va='bottom')\n",
    "\n",
    "\n",
    "autolabel(rects1, \"center\")\n",
    "autolabel(rects2, \"center\")\n",
    "\n",
    "\n",
    "plt.tight_layout()\n",
    "plt.show()"
   ]
  },
  {
   "cell_type": "code",
   "execution_count": null,
   "metadata": {},
   "outputs": [],
   "source": []
  },
  {
   "cell_type": "code",
   "execution_count": null,
   "metadata": {},
   "outputs": [],
   "source": []
  }
 ],
 "metadata": {
  "kernelspec": {
   "display_name": "Python 3",
   "language": "python",
   "name": "python3"
  },
  "language_info": {
   "codemirror_mode": {
    "name": "ipython",
    "version": 3
   },
   "file_extension": ".py",
   "mimetype": "text/x-python",
   "name": "python",
   "nbconvert_exporter": "python",
   "pygments_lexer": "ipython3",
   "version": "3.5.6"
  }
 },
 "nbformat": 4,
 "nbformat_minor": 2
}
