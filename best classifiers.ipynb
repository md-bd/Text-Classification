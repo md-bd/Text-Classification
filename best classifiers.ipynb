{
 "cells": [
  {
   "cell_type": "markdown",
   "metadata": {},
   "source": [
    "Import Necessary Modules"
   ]
  },
  {
   "cell_type": "code",
   "execution_count": 1,
   "metadata": {
    "ExecuteTime": {
     "end_time": "2019-04-03T19:13:15.325601Z",
     "start_time": "2019-04-03T19:13:14.547596Z"
    }
   },
   "outputs": [],
   "source": [
    "from xml.dom import minidom\n",
    "import re\n",
    "import numpy as np\n",
    "from nltk.stem import LancasterStemmer, WordNetLemmatizer\n",
    "from nltk.stem.porter import PorterStemmer\n",
    "import math\n",
    "from random import randint"
   ]
  },
  {
   "cell_type": "markdown",
   "metadata": {},
   "source": [
    "Data Cleaning"
   ]
  },
  {
   "cell_type": "code",
   "execution_count": 2,
   "metadata": {
    "ExecuteTime": {
     "end_time": "2019-04-03T19:13:15.333495Z",
     "start_time": "2019-04-03T19:13:15.327511Z"
    }
   },
   "outputs": [],
   "source": [
    "TAG_RE = re.compile(r'<[^>]+>|\\'')\n",
    "def remove_tags(text):\n",
    "    return TAG_RE.sub('', text)\n",
    "\n",
    "PUNC_TAG = re.compile(r'[^a-zA-Z0-9_]')\n",
    "def remove_punctuation(text):\n",
    "    return PUNC_TAG.sub(' ', text)\n",
    "\n",
    "Spaces = re.compile(r'  *')\n",
    "def remove_spaces(text):\n",
    "    return Spaces.sub(' ', text)\n",
    "\n",
    "def remove_junk(string):\n",
    "    return (remove_spaces(remove_punctuation(remove_tags(string)))).lower()\n"
   ]
  },
  {
   "cell_type": "code",
   "execution_count": 3,
   "metadata": {
    "ExecuteTime": {
     "end_time": "2019-04-03T19:13:15.443546Z",
     "start_time": "2019-04-03T19:13:15.335489Z"
    }
   },
   "outputs": [],
   "source": [
    "# https://github.com/Alir3z4/stop-words/blob/master/english.txt\n",
    "file = open('english.txt', 'r')\n",
    "stopwords = []\n",
    "\n",
    "for i in file.readlines():\n",
    "    i = i.split()\n",
    "    stopwords = stopwords + i\n",
    "\n",
    "file.close()"
   ]
  },
  {
   "cell_type": "code",
   "execution_count": 4,
   "metadata": {
    "ExecuteTime": {
     "end_time": "2019-04-03T19:13:15.539287Z",
     "start_time": "2019-04-03T19:13:15.449529Z"
    }
   },
   "outputs": [],
   "source": [
    "# https://gist.github.com/mmmayo13/07252b4eb27e5495b6032888b38e5333#file-text_data_preprocessing_5-py\n",
    "def stem_word(word):\n",
    "    \"\"\"Stem words in list of tokenized words\"\"\"\n",
    "    stemmer = LancasterStemmer()   \n",
    "    return stemmer.stem(word)\n",
    "\n",
    "def lemmatize_verb(word):\n",
    "    \"\"\"Lemmatize verbs\"\"\"\n",
    "    lemmatizer = WordNetLemmatizer()\n",
    "    return lemmatizer.lemmatize(word, pos='v')\n",
    "\n",
    "def lemm(word):\n",
    "    \"\"\"Lemmatize nouns\"\"\"\n",
    "    wordnet_lemmatizer = WordNetLemmatizer()\n",
    "    return wordnet_lemmatizer.lemmatize(word)\n",
    "\n",
    "def pot(word):\n",
    "    porter_stemmer = PorterStemmer()\n",
    "    return porter_stemmer.stem(word)\n"
   ]
  },
  {
   "cell_type": "code",
   "execution_count": null,
   "metadata": {},
   "outputs": [],
   "source": []
  },
  {
   "cell_type": "code",
   "execution_count": 5,
   "metadata": {
    "ExecuteTime": {
     "end_time": "2019-04-03T19:13:15.626232Z",
     "start_time": "2019-04-03T19:13:15.540289Z"
    }
   },
   "outputs": [],
   "source": [
    "def build_wordlist(filelocation, stopwords, wordmap, index, MAX_ROWS = 200):\n",
    "    \n",
    "    # parse an xml file by name\n",
    "    mydoc = minidom.parse(filelocation)\n",
    "    \n",
    "    # get each row in the file\n",
    "    items = mydoc.getElementsByTagName('row')\n",
    "    count=0\n",
    "    \n",
    "    for item in items:\n",
    "        \n",
    "        # remove unnecessary things\n",
    "        string = remove_junk(item.attributes['Body'].value)\n",
    "        \n",
    "        # not count a paragraph without any value\n",
    "        if len(string) < 2:\n",
    "            continue\n",
    "        \n",
    "        count=count+1\n",
    "        if count==MAX_ROWS:\n",
    "            break\n",
    "        \n",
    "        # check every single words in the string\n",
    "        words = string.split(\" \")\n",
    "        \n",
    "        for word in words:\n",
    "            \n",
    "            # check whether it's an important word or not\n",
    "            # https://docs.python.org/3/library/stdtypes.html#str.isnumeric\n",
    "            if not word.isnumeric() and len(word) > 1:\n",
    "                # lemmatize the words \n",
    "                word = lemm(lemmatize_verb(word))\n",
    "                \n",
    "                if word not in wordmap and word not in stopwords:\n",
    "                    \n",
    "                    wordmap[word] = index\n",
    "                    index = index + 1\n",
    "\n",
    "    \n",
    "    return wordmap, index\n"
   ]
  },
  {
   "cell_type": "code",
   "execution_count": 6,
   "metadata": {
    "ExecuteTime": {
     "end_time": "2019-04-03T19:13:15.747965Z",
     "start_time": "2019-04-03T19:13:15.630207Z"
    }
   },
   "outputs": [],
   "source": [
    "def vectormapping_train(filelocation, wordmap, MAX_ROWS = 200):\n",
    "\n",
    "    count = 0\n",
    "    \n",
    "    # initialize the vector\n",
    "    vector = [0]*len(wordmap)\n",
    "    \n",
    "    testdoc = minidom.parse(filelocation)\n",
    "    testItems = testdoc.getElementsByTagName('row')\n",
    "\n",
    "    for testItem in testItems:\n",
    "        \n",
    "        # okay, remove the junk as before\n",
    "        string = remove_tags(testItem.attributes['Body'].value)\n",
    "        string = remove_punctuation(string)\n",
    "        string = remove_spaces(string)\n",
    "        string = string.lower()\n",
    "\n",
    "        # not count a paragraph without any value\n",
    "        if len(string) < 2:\n",
    "            continue\n",
    "        \n",
    "        count=count+1\n",
    "        if count==MAX_ROWS:\n",
    "            break\n",
    "        \n",
    "        \n",
    "        # check every words in the string\n",
    "        words = string.split(\" \")\n",
    "        \n",
    "        # now go through every word\n",
    "        for w in words:\n",
    "            # lemmatize the word\n",
    "            if not w.isnumeric() and len(w) > 1 and w not in stopwords:\n",
    "\n",
    "                w = lemm(lemmatize_verb(w))\n",
    "\n",
    "                # count how many times it's in the string\n",
    "                if w in wordmap.keys():\n",
    "                    vector[wordmap[w]]=vector[wordmap[w]]+1\n",
    "\n",
    "        # append this vector of a single row to the whole vector list\n",
    "        # mainvec.append(vector)\n",
    "\n",
    "    return vector\n"
   ]
  },
  {
   "cell_type": "code",
   "execution_count": 7,
   "metadata": {
    "ExecuteTime": {
     "end_time": "2019-04-03T19:13:15.849363Z",
     "start_time": "2019-04-03T19:13:15.755948Z"
    }
   },
   "outputs": [],
   "source": [
    "def vectormapping_train_cos(filelocation, wordmap, MAX_ROWS = 200):\n",
    "\n",
    "    count = 0\n",
    "    mainvec =[]\n",
    "    \n",
    "    testdoc = minidom.parse(filelocation)\n",
    "    testItems = testdoc.getElementsByTagName('row')\n",
    "\n",
    "    for testItem in testItems:\n",
    "        \n",
    "        # initialize the vector\n",
    "        vector = [0]*len(wordmap)\n",
    "        \n",
    "        # okay, remove the junk as before\n",
    "        string = remove_tags(testItem.attributes['Body'].value)\n",
    "        string = remove_punctuation(string)\n",
    "        string = remove_spaces(string)\n",
    "        string = string.lower()\n",
    "\n",
    "        # not count a paragraph without any value\n",
    "        if len(string) < 2:\n",
    "            continue\n",
    "        \n",
    "        count=count+1\n",
    "        if count==MAX_ROWS:\n",
    "            break\n",
    "        \n",
    "        # check every words in the string\n",
    "        words = string.split(\" \")\n",
    "        \n",
    "        # now go through every word\n",
    "        for w in words:\n",
    "            # lemmatize the word\n",
    "            if not w.isnumeric() and len(w) > 1 and w not in stopwords:\n",
    "\n",
    "                w = lemm(lemmatize_verb(w))\n",
    "\n",
    "                # count how many times it's in the string\n",
    "                if w in wordmap.keys():\n",
    "                    vector[wordmap[w]]=vector[wordmap[w]]+1\n",
    "\n",
    "        # append this vector of a single row to the whole vector list\n",
    "        mainvec.append(vector)\n",
    "\n",
    "    return mainvec\n"
   ]
  },
  {
   "cell_type": "code",
   "execution_count": 8,
   "metadata": {
    "ExecuteTime": {
     "end_time": "2019-04-03T19:13:15.926152Z",
     "start_time": "2019-04-03T19:13:15.860334Z"
    }
   },
   "outputs": [],
   "source": [
    "def vectormapping_test(filelocation, wordmap, row_number, MAX_ROWS = 200):\n",
    "\n",
    "    count = 0\n",
    "    mainvec = []\n",
    "    notinwordmap = []\n",
    "    extwordmap = []\n",
    "    \n",
    "    testdoc = minidom.parse(filelocation)\n",
    "    testItems = testdoc.getElementsByTagName('row')\n",
    "    \n",
    "    for testItem in row_number:\n",
    "        \n",
    "        # initialize the vector\n",
    "        vector = [0]*len(wordmap)\n",
    "        notinmap = []\n",
    "        extmap = []\n",
    "        \n",
    "        # okay, remove the junk as before\n",
    "        string = remove_tags(testItems[testItem].attributes['Body'].value)\n",
    "        string = remove_punctuation(string)\n",
    "        string = remove_spaces(string)\n",
    "        string = string.lower()\n",
    "        \n",
    "        # not count a paragraph without any value\n",
    "        if len(string) < 2:\n",
    "            continue\n",
    "        \n",
    "        count=count+1\n",
    "        if count==MAX_ROWS:\n",
    "            break\n",
    "        \n",
    "        # check every words in the string\n",
    "        words = string.split(\" \")\n",
    "        \n",
    "        # now go through every word\n",
    "        for w in words:\n",
    "            \n",
    "            # lemmatize the word\n",
    "            if not w.isnumeric() and len(w) > 1 and w not in stopwords:\n",
    "                w = lemm(lemmatize_verb(w))\n",
    "                # print(w)\n",
    "            \n",
    "            # count how many times it's in the string\n",
    "                if w in wordmap.keys():\n",
    "                    vector[wordmap[w]]=vector[wordmap[w]]+1\n",
    "                else:\n",
    "                    notinmap.append(w)\n",
    "        \n",
    "        # https://stackoverflow.com/questions/12282232/how-do-i-count-unique-values-inside-a-list\n",
    "        # extmap = list(set(notinmap))\n",
    "        extmap = (np.unique(notinmap, return_counts=True)[0]).tolist()\n",
    "        notinmap = (np.unique(notinmap, return_counts=True)[1]).tolist()\n",
    "\n",
    "        # append this vector of a single row to the whole vector list\n",
    "        mainvec.append(vector)\n",
    "        notinwordmap.append(notinmap)\n",
    "        extwordmap.append(extmap)\n",
    "        \n",
    "        \n",
    "    return mainvec, notinwordmap, extwordmap\n"
   ]
  },
  {
   "cell_type": "code",
   "execution_count": 9,
   "metadata": {
    "ExecuteTime": {
     "end_time": "2019-04-03T19:13:16.029272Z",
     "start_time": "2019-04-03T19:13:15.928163Z"
    }
   },
   "outputs": [],
   "source": [
    "# if we need the total wordmap in a list....\n",
    "def features_name(wordmap):\n",
    "\n",
    "    features = [0] * len(wordmap)\n",
    "\n",
    "    for i in range(len(wordmap)):\n",
    "            for w, c in wordmap.items():\n",
    "                if i == c:\n",
    "                    features[i] = w\n",
    "    return features"
   ]
  },
  {
   "cell_type": "markdown",
   "metadata": {},
   "source": [
    "# Functions for Naive Bayes"
   ]
  },
  {
   "cell_type": "code",
   "execution_count": 10,
   "metadata": {
    "ExecuteTime": {
     "end_time": "2019-04-03T19:13:16.114536Z",
     "start_time": "2019-04-03T19:13:16.036248Z"
    }
   },
   "outputs": [],
   "source": [
    "def naive_bayes(total_vector, test_vector, extvector, names, alpha, V):\n",
    "    probability_names = [1]*len(names)\n",
    "    \n",
    "    for name in range(len(names)):\n",
    "        Ncm = sum(total_vector[name]) + (alpha * V)\n",
    "        probability_names[name] *= math.pow((alpha/Ncm), len(extvector))\n",
    "        for i in range(len(test_vector)):\n",
    "            if test_vector[i]:\n",
    "                probability_names[name] *= ((total_vector[name, i] + alpha) / Ncm)\n",
    "            \n",
    "                \n",
    "    # print(probability_names)\n",
    "    return names[np.argmax(probability_names)]\n",
    "    \n",
    "\n",
    "def actual_result_from_id(names, total_numbers, TEST_MAX_ROWS):\n",
    "    val = TEST_MAX_ROWS\n",
    "    for i in range(0,len(names)):\n",
    "        if total_numbers < val:\n",
    "            return names[i]\n",
    "        \n",
    "        else:\n",
    "            val = val + TEST_MAX_ROWS\n",
    "\n",
    "\n",
    "def naive(wordmap, rows, names, total_vector, TEST_MAX_ROWS):\n",
    "    \n",
    "    test_vectors = []\n",
    "    extvector = []\n",
    "    extwordmap = []\n",
    "\n",
    "    accurate = 0\n",
    "    total_numbers = 0\n",
    "    V = len(wordmap)\n",
    "    alpha = 0.1233\n",
    "\n",
    "\n",
    "    for name in names:\n",
    "        fileloc = './Dataset/Test/' + name + '.xml'\n",
    "        # print('>>>', name, end=' --')\n",
    "\n",
    "        test_vectors += vectormapping_test(fileloc, wordmap, rows, TEST_MAX_ROWS + 1)[0]\n",
    "        extvector += vectormapping_test(fileloc, wordmap, rows,TEST_MAX_ROWS + 1)[1]\n",
    "        extwordmap += vectormapping_test(fileloc, wordmap, rows,TEST_MAX_ROWS + 1)[2]\n",
    "        \n",
    "\n",
    "    test_vectors = np.array(test_vectors)\n",
    "    extvector = np.array(extvector)\n",
    "    extwordmap = np.array(extwordmap)\n",
    "\n",
    "    \n",
    "    for i in range(len(test_vectors)):\n",
    "\n",
    "        actual_result = actual_result_from_id(names, total_numbers, TEST_MAX_ROWS)\n",
    "        predicted_result = naive_bayes(total_vector, test_vectors[i], extvector[i], names, alpha, V)\n",
    "\n",
    "        total_numbers += 1\n",
    "        # print(actual_result,\"-->\", predicted_result)\n",
    "        if actual_result == predicted_result:\n",
    "            accurate += 1\n",
    "\n",
    "    return round((accurate/total_numbers) * 100, 3)\n"
   ]
  },
  {
   "cell_type": "markdown",
   "metadata": {},
   "source": [
    "# Functions for Cosine Similarity"
   ]
  },
  {
   "cell_type": "code",
   "execution_count": 11,
   "metadata": {
    "ExecuteTime": {
     "end_time": "2019-04-03T19:13:16.208005Z",
     "start_time": "2019-04-03T19:13:16.118528Z"
    }
   },
   "outputs": [],
   "source": [
    "# prediction\n",
    "def prediction(vec, KNN=5):\n",
    "    \n",
    "    row_indexes = np.argsort(-vec, axis=None)[:KNN]\n",
    "    # print(row_indexes, end=' ->')\n",
    "    predic = []\n",
    "    for r in row_indexes:\n",
    "        val = MAX_ROWS\n",
    "\n",
    "        for i in range(0,len(names)):\n",
    "            if r < val:\n",
    "                predic.append(names[i])\n",
    "                break\n",
    "            else:\n",
    "                val = val + MAX_ROWS\n",
    "\n",
    "    b = np.unique(predic, return_counts=True)[1]\n",
    "    c = np.argmax(b)\n",
    "    for i in range(len(b)):\n",
    "        if i != c and b[i] == b[c]:\n",
    "            return predic[0]\n",
    "    \n",
    "    return np.unique(predic)[np.argmax(np.unique(predic, return_counts=True)[1])]\n",
    "\n",
    "\n",
    "def cosine(wordmap, rows, names, total_vector_cos, TEST_MAX_ROWS):\n",
    "\n",
    "    # Training\n",
    "    idf_nu = len(total_vector_cos)\n",
    "    tf_idf_train = np.array(total_vector_cos, dtype=np.float64)\n",
    "    \n",
    "    for i in range(len(total_vector_cos)):\n",
    "        # print(total_vector[i])\n",
    "        # print(i)\n",
    "        tf_idf_train[i] = total_vector_cos[i] / sum(total_vector_cos[i])\n",
    "        for j in range(len(total_vector_cos[i])):\n",
    "            idf_de = 1 + len((total_vector_cos[:,j])[(total_vector_cos[:,j])>0])\n",
    "            idf = math.log(idf_nu/idf_de)\n",
    "            tf_idf_train[i, j] *= idf\n",
    "\n",
    "\n",
    "    test_vectors = []\n",
    "    extvector = []\n",
    "    extwordmap = []\n",
    "\n",
    "    for name in names:\n",
    "        fileloc = './Dataset/Test/' + name + '.xml'\n",
    "\n",
    "        test_vectors += vectormapping_test(fileloc, wordmap, rows, TEST_MAX_ROWS + 1)[0]\n",
    "        extvector += vectormapping_test(fileloc, wordmap, rows,TEST_MAX_ROWS + 1)[1]\n",
    "        extwordmap += vectormapping_test(fileloc, wordmap, rows,TEST_MAX_ROWS + 1)[2]\n",
    "\n",
    "\n",
    "    test_vectors = np.array(test_vectors)\n",
    "    extvector = np.array(extvector)\n",
    "    extwordmap = np.array(extwordmap)\n",
    "\n",
    "    \n",
    "    \n",
    "    \n",
    "    # test data tf_idf vector creation\n",
    "    idf_nu = len(total_vector_cos)\n",
    "    tf_idf_test = np.array(test_vectors, dtype=np.float64)\n",
    "\n",
    "    for i in range(len(test_vectors)):\n",
    "        tf_idf_test[i] = test_vectors[i] / (sum(test_vectors[i]) + sum(extvector[i]))\n",
    "\n",
    "        for j in range(len(test_vectors[i])):\n",
    "            idf_de = 1 + len((total_vector_cos[:,j])[(total_vector_cos[:,j])>0])\n",
    "            idf = math.log10(idf_nu/ idf_de)\n",
    "            tf_idf_test[i, j] *= idf\n",
    "\n",
    "\n",
    "    # not in wordlist\n",
    "    idf = math.log(idf_nu)\n",
    "    tf_idf_ext = np.empty([len(extvector), 1], dtype=np.float64)\n",
    "\n",
    "    for i in range(len(extvector)):\n",
    "        tf_idf_ext[i] = sum(((extvector[i] / (sum(test_vectors[i]) + sum(extvector[i]))) * idf) ** 2)\n",
    "\n",
    "    accurate = 0\n",
    "    total_numbers = 0\n",
    "\n",
    "    KNN = 5\n",
    "\n",
    "    for i in range(len(tf_idf_test)):\n",
    "        numerator_set = np.multiply(tf_idf_train, tf_idf_test[i])\n",
    "        denB = sum(tf_idf_test[i] ** 2) + tf_idf_ext[i]\n",
    "        denA_set = tf_idf_train ** 2\n",
    "\n",
    "        resulting_vec = np.empty((len(numerator_set), 1), dtype=float)\n",
    "        for j in range(len(numerator_set)):\n",
    "            resulting_vec[j] = sum(numerator_set[j]) / (math.sqrt(sum(denA_set[j])) * math.sqrt(denB))\n",
    "\n",
    "        actual_result = actual_result_from_id(names, total_numbers, TEST_MAX_ROWS)\n",
    "        predicted_result = prediction(resulting_vec, KNN)\n",
    "\n",
    "        total_numbers += 1\n",
    "        # print(actual_result,\"-->\", predicted_result)\n",
    "        if actual_result == predicted_result:\n",
    "            accurate += 1\n",
    "    \n",
    "    return round((accurate/total_numbers) * 100, 3)\n"
   ]
  },
  {
   "cell_type": "markdown",
   "metadata": {},
   "source": [
    "# Wordmap"
   ]
  },
  {
   "cell_type": "code",
   "execution_count": 12,
   "metadata": {
    "ExecuteTime": {
     "end_time": "2019-04-03T19:13:26.604374Z",
     "start_time": "2019-04-03T19:13:16.215974Z"
    }
   },
   "outputs": [
    {
     "name": "stdout",
     "output_type": "stream",
     "text": [
      ">>files:  ['Coffee', 'Cooking', 'Law', 'Space', 'Windows_Phone', 'Wood_Working']\n",
      ">>wordmap generated\n",
      ">>total number of features: 4129\n"
     ]
    }
   ],
   "source": [
    "filenames = open('./Dataset/topics.txt', 'r')\n",
    "names = []\n",
    "\n",
    "for i in filenames.readlines():\n",
    "    names = names + i.split()\n",
    "\n",
    "print('>>files: ', names)\n",
    "\n",
    "wordmap = {}\n",
    "index = 0\n",
    "\n",
    "MAX_ROWS = 80\n",
    "\n",
    "# build the total wordMap of all the files and rows\n",
    "for name in names:\n",
    "    fileloc = './Dataset/Training/' + name + '.xml'\n",
    "    wordmap, index = build_wordlist(fileloc, stopwords, wordmap, index, MAX_ROWS + 1)\n",
    "\n",
    "\n",
    "print('>>wordmap generated')\n",
    "print('>>total number of features:', len(wordmap))"
   ]
  },
  {
   "cell_type": "markdown",
   "metadata": {},
   "source": [
    "# Training Set Vectors"
   ]
  },
  {
   "cell_type": "code",
   "execution_count": 13,
   "metadata": {
    "ExecuteTime": {
     "end_time": "2019-04-03T19:13:45.681408Z",
     "start_time": "2019-04-03T19:13:26.606370Z"
    }
   },
   "outputs": [
    {
     "name": "stdout",
     "output_type": "stream",
     "text": [
      ">> Coffee--Done\n",
      ">> Cooking--Done\n",
      ">> Law--Done\n",
      ">> Space--Done\n",
      ">> Windows_Phone--Done\n",
      ">> Wood_Working--Done\n",
      ">> Coffee--Done\n",
      ">> Cooking--Done\n",
      ">> Law--Done\n",
      ">> Space--Done\n",
      ">> Windows_Phone--Done\n",
      ">> Wood_Working--Done\n"
     ]
    }
   ],
   "source": [
    "total_vector = []\n",
    "\n",
    "# create a list of vectors of all the training datasets\n",
    "for name in names:\n",
    "    fileloc = './Dataset/Training/' + name + '.xml'\n",
    "    print('>>', name, end='--')\n",
    "    total_vector.append(vectormapping_train(fileloc, wordmap, MAX_ROWS + 1)) \n",
    "    print('Done')\n",
    "\n",
    "total_vector = np.array(total_vector)\n",
    "\n",
    "total_vector_cos = []\n",
    "\n",
    "# create a list of vectors of all the training datasets\n",
    "for name in names:\n",
    "    fileloc = './Dataset/Training/' + name + '.xml'\n",
    "    print('>>', name, end='--')\n",
    "    total_vector_cos = total_vector_cos + vectormapping_train_cos(fileloc, wordmap, MAX_ROWS + 1)\n",
    "    print('Done')\n",
    "\n",
    "total_vector_cos = np.array(total_vector_cos)\n"
   ]
  },
  {
   "cell_type": "markdown",
   "metadata": {},
   "source": [
    "Compare between Naive Bayes and Cosine Similarity"
   ]
  },
  {
   "cell_type": "code",
   "execution_count": 14,
   "metadata": {
    "ExecuteTime": {
     "end_time": "2019-04-03T19:24:13.314273Z",
     "start_time": "2019-04-03T19:13:45.682376Z"
    },
    "scrolled": false
   },
   "outputs": [
    {
     "name": "stdout",
     "output_type": "stream",
     "text": [
      "Naive Bayes\tCosine Similarity\n",
      "84.167 %\t\t 83.333 %\n",
      "81.667 %\t\t 77.5 %\n",
      "90.0 %\t\t 85.0 %\n",
      "85.0 %\t\t 86.667 %\n",
      "85.0 %\t\t 85.0 %\n",
      "85.0 %\t\t 85.833 %\n",
      "83.333 %\t\t 82.5 %\n",
      "84.167 %\t\t 83.333 %\n",
      "85.833 %\t\t 80.833 %\n",
      "83.333 %\t\t 85.833 %\n",
      "-----------------------------------------------\n",
      "Avg Naive Bayes accuracy: 84.75 %\n",
      "Avg Cosine similarity accuracy: 83.583 %\n",
      "-----------------------------------------------\n"
     ]
    }
   ],
   "source": [
    "file = open('best classifiers.txt', 'w')\n",
    "file.write('Naive Bayes \\tCosine Simialrity\\n')\n",
    "\n",
    "\n",
    "TRIES = 10\n",
    "accuracy_naive = [0 for i in range(0, TRIES)]\n",
    "accuracy_cosine = [0 for i in range(0, TRIES)]\n",
    "\n",
    "\n",
    "TEST_MAX_ROWS = 20\n",
    "\n",
    "avg_naive = 0\n",
    "avg_cosine = 0\n",
    "\n",
    "\n",
    "print(\"Naive Bayes\\tCosine Similarity\")\n",
    "for j in range(0, TRIES):\n",
    "\n",
    "    # https://docs.python.org/3/library/random.html#random.randint\n",
    "    # https://stackoverflow.com/questions/3996904/generate-random-integers-between-0-and-9\n",
    "    rows = [randint(0, 70) for p in range(0, TEST_MAX_ROWS)]\n",
    "    # print(rows)\n",
    "\n",
    "\n",
    "    accuracy_naive[j] = naive(wordmap, rows, names, total_vector, TEST_MAX_ROWS)\n",
    "    file.write(str(accuracy_naive[j]))\n",
    "    \n",
    "    accuracy_cosine[j] = cosine(wordmap, rows, names, total_vector_cos, TEST_MAX_ROWS)\n",
    "    file.write('\\t\\t'+ str(accuracy_cosine[j]) + '\\n')\n",
    "    \n",
    "    print(accuracy_naive[j], '%\\t\\t', accuracy_cosine[j], '%')\n",
    "\n",
    "\n",
    "file.write('\\nAverage Accuracy:\\nNaive Bayes \\tCosine Similarity\\n')\n",
    "\n",
    "avg_naive = round(sum(accuracy_naive) / float(len(accuracy_naive)), 3)\n",
    "file.write(str(avg_naive))\n",
    "\n",
    "\n",
    "avg_cosine = round(sum(accuracy_cosine) / float(len(accuracy_cosine)), 3)\n",
    "file.write('\\t\\t' + str(avg_cosine) + '\\n')\n",
    "\n",
    "file.close()\n",
    "\n",
    "print('-----------------------------------------------')\n",
    "print('Avg Naive Bayes accuracy:', avg_naive, '%')\n",
    "print('Avg Cosine similarity accuracy:', avg_cosine, '%')\n",
    "print('-----------------------------------------------')\n"
   ]
  },
  {
   "cell_type": "code",
   "execution_count": null,
   "metadata": {},
   "outputs": [],
   "source": []
  },
  {
   "cell_type": "code",
   "execution_count": 20,
   "metadata": {
    "ExecuteTime": {
     "end_time": "2019-04-03T19:25:52.654755Z",
     "start_time": "2019-04-03T19:25:52.438282Z"
    }
   },
   "outputs": [
    {
     "data": {
      "image/png": "[encoded data removed]",
      "text/plain": [
       "<Figure size 1080x576 with 1 Axes>"
      ]
     },
     "metadata": {
      "needs_background": "light"
     },
     "output_type": "display_data"
    }
   ],
   "source": [
    "import matplotlib.pyplot as plt\n",
    "# create plot\n",
    "fig, ax = plt.subplots(figsize=(15, 8))\n",
    "\n",
    "# plt.grid(True)\n",
    "index = np.arange(len(accuracy_cosine))\n",
    "bar_width = 0.25\n",
    "opacity = 0.6\n",
    " \n",
    "rects1 = plt.bar(index, accuracy_naive, bar_width,\n",
    "alpha=opacity,\n",
    "color='b',\n",
    "label='Naive')\n",
    "\n",
    "plt.axis(ymin=min(accuracy_cosine) - 5, ymax= max(accuracy_naive)+5);\n",
    "\n",
    "rects2 = plt.bar(index + bar_width, accuracy_cosine, bar_width,\n",
    "alpha=opacity,\n",
    "color='r',\n",
    "label='Cosine')\n",
    "\n",
    "\n",
    " \n",
    "plt.xlabel('Attempts')\n",
    "plt.ylabel('Accuracy')\n",
    "plt.title('Accuracy by attempts')\n",
    "# plt.xticks(index + bar_width/2, ('1', '3', '5'))\n",
    "plt.legend()\n",
    "\n",
    "\n",
    "# https://matplotlib.org/gallery/lines_bars_and_markers/barchart.html#sphx-glr-gallery-lines-bars-and-markers-barchart-py\n",
    "\n",
    "def autolabel(rects, xpos='center'):\n",
    "    \"\"\"\n",
    "    Attach a text label above each bar in *rects*, displaying its height.\n",
    "\n",
    "    *xpos* indicates which side to place the text w.r.t. the center of\n",
    "    the bar. It can be one of the following {'center', 'right', 'left'}.\n",
    "    \"\"\"\n",
    "\n",
    "    xpos = xpos.lower()  # normalize the case of the parameter\n",
    "    ha = {'center': 'center', 'right': 'left', 'left': 'right'}\n",
    "    offset = {'center': 0.5, 'right': 0.57, 'left': 0.43}  # x_txt = x + w*off\n",
    "\n",
    "    for rect in rects:\n",
    "        height = rect.get_height()\n",
    "        ax.text(rect.get_x() + rect.get_width()*offset[xpos], 1.01*height,\n",
    "                '{}'.format(height), ha=ha[xpos], va='bottom')\n",
    "\n",
    "\n",
    "autolabel(rects1, \"center\")\n",
    "autolabel(rects2, \"center\")\n",
    "\n",
    "\n",
    "plt.tight_layout()\n",
    "plt.show()\n"
   ]
  },
  {
   "cell_type": "code",
   "execution_count": null,
   "metadata": {},
   "outputs": [],
   "source": []
  }
 ],
 "metadata": {
  "kernelspec": {
   "display_name": "Python 3",
   "language": "python",
   "name": "python3"
  },
  "language_info": {
   "codemirror_mode": {
    "name": "ipython",
    "version": 3
   },
   "file_extension": ".py",
   "mimetype": "text/x-python",
   "name": "python",
   "nbconvert_exporter": "python",
   "pygments_lexer": "ipython3",
   "version": "3.5.6"
  }
 },
 "nbformat": 4,
 "nbformat_minor": 2
}
